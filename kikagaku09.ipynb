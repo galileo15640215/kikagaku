{
  "nbformat": 4,
  "nbformat_minor": 0,
  "metadata": {
    "colab": {
      "name": "kikagaku09.ipynb",
      "provenance": [],
      "machine_shape": "hm",
      "authorship_tag": "ABX9TyME6TgnILtTDYERzFrV3f+Z",
      "include_colab_link": true
    },
    "kernelspec": {
      "name": "python3",
      "display_name": "Python 3"
    },
    "accelerator": "GPU"
  },
  "cells": [
    {
      "cell_type": "markdown",
      "metadata": {
        "id": "view-in-github",
        "colab_type": "text"
      },
      "source": [
        "<a href=\"https://colab.research.google.com/github/galileo15640215/kikagaku/blob/master/kikagaku09.ipynb\" target=\"_parent\"><img src=\"https://colab.research.google.com/assets/colab-badge.svg\" alt=\"Open In Colab\"/></a>"
      ]
    },
    {
      "cell_type": "markdown",
      "metadata": {
        "id": "wMdBFP1S7V1r",
        "colab_type": "text"
      },
      "source": [
        "ファインチューニング\n",
        "https://www.kikagaku.ai/tutorial/basic_of_computer_vision/learn/tensorflow_finetuning"
      ]
    },
    {
      "cell_type": "code",
      "metadata": {
        "id": "fN5THuhZ7SRi",
        "colab_type": "code",
        "colab": {}
      },
      "source": [
        "import numpy as np\n",
        "import pandas as pd\n",
        "import matplotlib.pyplot as plt\n",
        "import cv2\n",
        "\n",
        "import tensorflow as tf"
      ],
      "execution_count": 0,
      "outputs": []
    },
    {
      "cell_type": "code",
      "metadata": {
        "id": "2qzK6duk82WQ",
        "colab_type": "code",
        "outputId": "a9572f05-24a3-452c-f151-eef88ac74252",
        "colab": {
          "base_uri": "https://localhost:8080/",
          "height": 588
        }
      },
      "source": [
        "# GPU が使用可能であることを確認\n",
        "from tensorflow.python.client import device_lib\n",
        "print(device_lib.list_local_devices())"
      ],
      "execution_count": 0,
      "outputs": [
        {
          "output_type": "stream",
          "text": [
            "[name: \"/device:CPU:0\"\n",
            "device_type: \"CPU\"\n",
            "memory_limit: 268435456\n",
            "locality {\n",
            "}\n",
            "incarnation: 3502025432402976498\n",
            ", name: \"/device:XLA_CPU:0\"\n",
            "device_type: \"XLA_CPU\"\n",
            "memory_limit: 17179869184\n",
            "locality {\n",
            "}\n",
            "incarnation: 2754622598562316795\n",
            "physical_device_desc: \"device: XLA_CPU device\"\n",
            ", name: \"/device:XLA_GPU:0\"\n",
            "device_type: \"XLA_GPU\"\n",
            "memory_limit: 17179869184\n",
            "locality {\n",
            "}\n",
            "incarnation: 12497775719899351779\n",
            "physical_device_desc: \"device: XLA_GPU device\"\n",
            ", name: \"/device:GPU:0\"\n",
            "device_type: \"GPU\"\n",
            "memory_limit: 15701463552\n",
            "locality {\n",
            "  bus_id: 1\n",
            "  links {\n",
            "  }\n",
            "}\n",
            "incarnation: 3118542059643278242\n",
            "physical_device_desc: \"device: 0, name: Tesla P100-PCIE-16GB, pci bus id: 0000:00:04.0, compute capability: 6.0\"\n",
            "]\n"
          ],
          "name": "stdout"
        }
      ]
    },
    {
      "cell_type": "code",
      "metadata": {
        "id": "ztvprzh784pQ",
        "colab_type": "code",
        "outputId": "0fdf5f48-8016-4d22-97f8-afe893f17e37",
        "colab": {
          "base_uri": "https://localhost:8080/",
          "height": 52
        }
      },
      "source": [
        "# データセットの読み込み\n",
        "train, test = tf.keras.datasets.cifar10.load_data()"
      ],
      "execution_count": 0,
      "outputs": [
        {
          "output_type": "stream",
          "text": [
            "Downloading data from https://www.cs.toronto.edu/~kriz/cifar-10-python.tar.gz\n",
            "170500096/170498071 [==============================] - 11s 0us/step\n"
          ],
          "name": "stdout"
        }
      ]
    },
    {
      "cell_type": "code",
      "metadata": {
        "id": "aG3UoGq_86TS",
        "colab_type": "code",
        "outputId": "5797ff5a-3243-45ca-ba7c-eaec0320d99f",
        "colab": {
          "base_uri": "https://localhost:8080/",
          "height": 35
        }
      },
      "source": [
        "# 画像の情報\n",
        "train[0].shape, test[0].shape"
      ],
      "execution_count": 0,
      "outputs": [
        {
          "output_type": "execute_result",
          "data": {
            "text/plain": [
              "((50000, 32, 32, 3), (10000, 32, 32, 3))"
            ]
          },
          "metadata": {
            "tags": []
          },
          "execution_count": 4
        }
      ]
    },
    {
      "cell_type": "code",
      "metadata": {
        "id": "ffm4xHsA894S",
        "colab_type": "code",
        "outputId": "e354c8eb-b53e-4063-a937-e3f844a45b34",
        "colab": {
          "base_uri": "https://localhost:8080/",
          "height": 35
        }
      },
      "source": [
        "# ラベルの情報\n",
        "train[1].shape, test[1].shape"
      ],
      "execution_count": 0,
      "outputs": [
        {
          "output_type": "execute_result",
          "data": {
            "text/plain": [
              "((50000, 1), (10000, 1))"
            ]
          },
          "metadata": {
            "tags": []
          },
          "execution_count": 5
        }
      ]
    },
    {
      "cell_type": "code",
      "metadata": {
        "id": "aQ7QhdON9AC-",
        "colab_type": "code",
        "colab": {}
      },
      "source": [
        "# 学習用データセットとテスト用データセットに対して正規化\n",
        "x_train = train[0] / 255\n",
        "x_test = test[0] / 255"
      ],
      "execution_count": 0,
      "outputs": []
    },
    {
      "cell_type": "code",
      "metadata": {
        "id": "FZZAWrTE9CPL",
        "colab_type": "code",
        "colab": {}
      },
      "source": [
        "# 目標値の切り分け\n",
        "t_train = train[1]\n",
        "t_test = test[1]"
      ],
      "execution_count": 0,
      "outputs": []
    },
    {
      "cell_type": "code",
      "metadata": {
        "id": "zKduzxaW9Gfe",
        "colab_type": "code",
        "colab": {}
      },
      "source": [
        "# 32bit にキャスト\n",
        "x_train, x_test = x_train.astype('float32'), x_test.astype('float32')\n",
        "t_train, t_test = t_train.astype('int32'), t_test.astype('int32')"
      ],
      "execution_count": 0,
      "outputs": []
    },
    {
      "cell_type": "code",
      "metadata": {
        "id": "aaS5VLPP-rcJ",
        "colab_type": "code",
        "colab": {}
      },
      "source": [
        "import os, random\n",
        "\n",
        "def reset_seed(seed=0):\n",
        "    os.environ['PYTHONHASHSEED'] = '0'\n",
        "    random.seed(seed)\n",
        "    np.random.seed(seed)\n",
        "    tf.random.set_seed(seed)"
      ],
      "execution_count": 0,
      "outputs": []
    },
    {
      "cell_type": "code",
      "metadata": {
        "id": "GINdE1QV-tw-",
        "colab_type": "code",
        "colab": {}
      },
      "source": [
        "from tensorflow.keras import models,layers\n",
        "\n",
        "# シードの固定\n",
        "reset_seed(0)\n",
        "\n",
        "# モデルの構築\n",
        "model = models.Sequential([\n",
        "    # 特徴量抽出\n",
        "    layers.Conv2D(filters=3, kernel_size=(3, 3), activation='relu', input_shape=(32, 32, 3)),\n",
        "    layers.MaxPool2D(pool_size=(2, 2)),\n",
        "    # ベクトル化\n",
        "    layers.Flatten(),\n",
        "    # 識別\n",
        "    layers.Dense(100, activation='relu'),\n",
        "    layers.Dense(10, activation='softmax')\n",
        "])"
      ],
      "execution_count": 0,
      "outputs": []
    },
    {
      "cell_type": "code",
      "metadata": {
        "id": "iXf8QdTy-wzm",
        "colab_type": "code",
        "outputId": "d61b6855-7f84-4694-de17-b2d60e89a9e4",
        "colab": {
          "base_uri": "https://localhost:8080/",
          "height": 337
        }
      },
      "source": [
        "model.summary()"
      ],
      "execution_count": 0,
      "outputs": [
        {
          "output_type": "stream",
          "text": [
            "Model: \"sequential\"\n",
            "_________________________________________________________________\n",
            "Layer (type)                 Output Shape              Param #   \n",
            "=================================================================\n",
            "conv2d (Conv2D)              (None, 30, 30, 3)         84        \n",
            "_________________________________________________________________\n",
            "max_pooling2d (MaxPooling2D) (None, 15, 15, 3)         0         \n",
            "_________________________________________________________________\n",
            "flatten (Flatten)            (None, 675)               0         \n",
            "_________________________________________________________________\n",
            "dense (Dense)                (None, 100)               67600     \n",
            "_________________________________________________________________\n",
            "dense_1 (Dense)              (None, 10)                1010      \n",
            "=================================================================\n",
            "Total params: 68,694\n",
            "Trainable params: 68,694\n",
            "Non-trainable params: 0\n",
            "_________________________________________________________________\n"
          ],
          "name": "stdout"
        }
      ]
    },
    {
      "cell_type": "code",
      "metadata": {
        "id": "VWajo0NT-1Bd",
        "colab_type": "code",
        "colab": {}
      },
      "source": [
        "# optimizerの設定\n",
        "optimizer = tf.keras.optimizers.Adam(lr=0.01)\n",
        "\n",
        "# モデルのコンパイル\n",
        "model.compile(optimizer=optimizer,\n",
        "              loss='sparse_categorical_crossentropy',\n",
        "              metrics=['accuracy'])"
      ],
      "execution_count": 0,
      "outputs": []
    },
    {
      "cell_type": "code",
      "metadata": {
        "id": "aKob3hzG-2Tn",
        "colab_type": "code",
        "outputId": "de8b700b-5b76-4b32-8067-c94a684eda85",
        "colab": {
          "base_uri": "https://localhost:8080/",
          "height": 1000
        }
      },
      "source": [
        "# モデルの学習\n",
        "batch_size = 4096\n",
        "epochs = 30\n",
        "\n",
        "# 学習の実行\n",
        "history = model.fit(x_train, t_train,\n",
        "                batch_size=batch_size,\n",
        "                epochs=epochs, \n",
        "                validation_data=(x_test, t_test))"
      ],
      "execution_count": 0,
      "outputs": [
        {
          "output_type": "stream",
          "text": [
            "Epoch 1/30\n",
            "13/13 [==============================] - 1s 54ms/step - loss: 2.1485 - accuracy: 0.2161 - val_loss: 1.9057 - val_accuracy: 0.3297\n",
            "Epoch 2/30\n",
            "13/13 [==============================] - 0s 32ms/step - loss: 1.8600 - accuracy: 0.3520 - val_loss: 1.7684 - val_accuracy: 0.3795\n",
            "Epoch 3/30\n",
            "13/13 [==============================] - 0s 32ms/step - loss: 1.6807 - accuracy: 0.4035 - val_loss: 1.6393 - val_accuracy: 0.4151\n",
            "Epoch 4/30\n",
            "13/13 [==============================] - 0s 32ms/step - loss: 1.5720 - accuracy: 0.4387 - val_loss: 1.5570 - val_accuracy: 0.4404\n",
            "Epoch 5/30\n",
            "13/13 [==============================] - 0s 33ms/step - loss: 1.4940 - accuracy: 0.4673 - val_loss: 1.5114 - val_accuracy: 0.4570\n",
            "Epoch 6/30\n",
            "13/13 [==============================] - 0s 31ms/step - loss: 1.4457 - accuracy: 0.4863 - val_loss: 1.4688 - val_accuracy: 0.4722\n",
            "Epoch 7/30\n",
            "13/13 [==============================] - 0s 31ms/step - loss: 1.4040 - accuracy: 0.5005 - val_loss: 1.4789 - val_accuracy: 0.4733\n",
            "Epoch 8/30\n",
            "13/13 [==============================] - 0s 31ms/step - loss: 1.3821 - accuracy: 0.5120 - val_loss: 1.4385 - val_accuracy: 0.4892\n",
            "Epoch 9/30\n",
            "13/13 [==============================] - 0s 32ms/step - loss: 1.3399 - accuracy: 0.5286 - val_loss: 1.4523 - val_accuracy: 0.4877\n",
            "Epoch 10/30\n",
            "13/13 [==============================] - 0s 32ms/step - loss: 1.3024 - accuracy: 0.5404 - val_loss: 1.4021 - val_accuracy: 0.5025\n",
            "Epoch 11/30\n",
            "13/13 [==============================] - 0s 32ms/step - loss: 1.2673 - accuracy: 0.5543 - val_loss: 1.4023 - val_accuracy: 0.5056\n",
            "Epoch 12/30\n",
            "13/13 [==============================] - 0s 32ms/step - loss: 1.2462 - accuracy: 0.5607 - val_loss: 1.3830 - val_accuracy: 0.5138\n",
            "Epoch 13/30\n",
            "13/13 [==============================] - 0s 32ms/step - loss: 1.2323 - accuracy: 0.5653 - val_loss: 1.3803 - val_accuracy: 0.5191\n",
            "Epoch 14/30\n",
            "13/13 [==============================] - 0s 33ms/step - loss: 1.2093 - accuracy: 0.5745 - val_loss: 1.3813 - val_accuracy: 0.5149\n",
            "Epoch 15/30\n",
            "13/13 [==============================] - 0s 31ms/step - loss: 1.1655 - accuracy: 0.5891 - val_loss: 1.3748 - val_accuracy: 0.5181\n",
            "Epoch 16/30\n",
            "13/13 [==============================] - 0s 30ms/step - loss: 1.1414 - accuracy: 0.6000 - val_loss: 1.3973 - val_accuracy: 0.5168\n",
            "Epoch 17/30\n",
            "13/13 [==============================] - 0s 30ms/step - loss: 1.1344 - accuracy: 0.5998 - val_loss: 1.3642 - val_accuracy: 0.5237\n",
            "Epoch 18/30\n",
            "13/13 [==============================] - 0s 31ms/step - loss: 1.1003 - accuracy: 0.6136 - val_loss: 1.3816 - val_accuracy: 0.5296\n",
            "Epoch 19/30\n",
            "13/13 [==============================] - 0s 31ms/step - loss: 1.0871 - accuracy: 0.6201 - val_loss: 1.3761 - val_accuracy: 0.5239\n",
            "Epoch 20/30\n",
            "13/13 [==============================] - 0s 31ms/step - loss: 1.0736 - accuracy: 0.6252 - val_loss: 1.4341 - val_accuracy: 0.5187\n",
            "Epoch 21/30\n",
            "13/13 [==============================] - 0s 31ms/step - loss: 1.0697 - accuracy: 0.6238 - val_loss: 1.4000 - val_accuracy: 0.5248\n",
            "Epoch 22/30\n",
            "13/13 [==============================] - 0s 30ms/step - loss: 1.0462 - accuracy: 0.6327 - val_loss: 1.3967 - val_accuracy: 0.5260\n",
            "Epoch 23/30\n",
            "13/13 [==============================] - 0s 32ms/step - loss: 1.0158 - accuracy: 0.6454 - val_loss: 1.4189 - val_accuracy: 0.5226\n",
            "Epoch 24/30\n",
            "13/13 [==============================] - 0s 31ms/step - loss: 1.0169 - accuracy: 0.6438 - val_loss: 1.4117 - val_accuracy: 0.5230\n",
            "Epoch 25/30\n",
            "13/13 [==============================] - 0s 31ms/step - loss: 1.0039 - accuracy: 0.6484 - val_loss: 1.4336 - val_accuracy: 0.5225\n",
            "Epoch 26/30\n",
            "13/13 [==============================] - 0s 31ms/step - loss: 0.9825 - accuracy: 0.6563 - val_loss: 1.4238 - val_accuracy: 0.5201\n",
            "Epoch 27/30\n",
            "13/13 [==============================] - 0s 30ms/step - loss: 0.9639 - accuracy: 0.6635 - val_loss: 1.4517 - val_accuracy: 0.5108\n",
            "Epoch 28/30\n",
            "13/13 [==============================] - 0s 32ms/step - loss: 0.9506 - accuracy: 0.6686 - val_loss: 1.4476 - val_accuracy: 0.5150\n",
            "Epoch 29/30\n",
            "13/13 [==============================] - 0s 31ms/step - loss: 0.9387 - accuracy: 0.6734 - val_loss: 1.4483 - val_accuracy: 0.5179\n",
            "Epoch 30/30\n",
            "13/13 [==============================] - 0s 29ms/step - loss: 0.9335 - accuracy: 0.6763 - val_loss: 1.4798 - val_accuracy: 0.5153\n"
          ],
          "name": "stdout"
        }
      ]
    },
    {
      "cell_type": "code",
      "metadata": {
        "id": "rCns3pBA_HQZ",
        "colab_type": "code",
        "outputId": "214b7d8f-9036-4923-90ad-dd29a40e998e",
        "colab": {
          "base_uri": "https://localhost:8080/",
          "height": 72
        }
      },
      "source": [
        "from tensorflow.keras.applications import resnet, VGG16\n",
        "\n",
        "# 学習済みモデルをインスタンス化\n",
        "base_model = VGG16(input_shape=(224, 224, 3),\n",
        "                                      include_top=False, weights='imagenet')"
      ],
      "execution_count": 0,
      "outputs": [
        {
          "output_type": "stream",
          "text": [
            "Downloading data from https://storage.googleapis.com/tensorflow/keras-applications/vgg16/vgg16_weights_tf_dim_ordering_tf_kernels_notop.h5\n",
            "58892288/58889256 [==============================] - 1s 0us/step\n"
          ],
          "name": "stdout"
        }
      ]
    },
    {
      "cell_type": "code",
      "metadata": {
        "id": "-1feTslN_K6C",
        "colab_type": "code",
        "outputId": "9faa691b-4140-4e93-a0ad-887551b928ef",
        "colab": {
          "base_uri": "https://localhost:8080/",
          "height": 835
        }
      },
      "source": [
        "base_model.summary()"
      ],
      "execution_count": 0,
      "outputs": [
        {
          "output_type": "stream",
          "text": [
            "Model: \"vgg16\"\n",
            "_________________________________________________________________\n",
            "Layer (type)                 Output Shape              Param #   \n",
            "=================================================================\n",
            "input_1 (InputLayer)         [(None, 224, 224, 3)]     0         \n",
            "_________________________________________________________________\n",
            "block1_conv1 (Conv2D)        (None, 224, 224, 64)      1792      \n",
            "_________________________________________________________________\n",
            "block1_conv2 (Conv2D)        (None, 224, 224, 64)      36928     \n",
            "_________________________________________________________________\n",
            "block1_pool (MaxPooling2D)   (None, 112, 112, 64)      0         \n",
            "_________________________________________________________________\n",
            "block2_conv1 (Conv2D)        (None, 112, 112, 128)     73856     \n",
            "_________________________________________________________________\n",
            "block2_conv2 (Conv2D)        (None, 112, 112, 128)     147584    \n",
            "_________________________________________________________________\n",
            "block2_pool (MaxPooling2D)   (None, 56, 56, 128)       0         \n",
            "_________________________________________________________________\n",
            "block3_conv1 (Conv2D)        (None, 56, 56, 256)       295168    \n",
            "_________________________________________________________________\n",
            "block3_conv2 (Conv2D)        (None, 56, 56, 256)       590080    \n",
            "_________________________________________________________________\n",
            "block3_conv3 (Conv2D)        (None, 56, 56, 256)       590080    \n",
            "_________________________________________________________________\n",
            "block3_pool (MaxPooling2D)   (None, 28, 28, 256)       0         \n",
            "_________________________________________________________________\n",
            "block4_conv1 (Conv2D)        (None, 28, 28, 512)       1180160   \n",
            "_________________________________________________________________\n",
            "block4_conv2 (Conv2D)        (None, 28, 28, 512)       2359808   \n",
            "_________________________________________________________________\n",
            "block4_conv3 (Conv2D)        (None, 28, 28, 512)       2359808   \n",
            "_________________________________________________________________\n",
            "block4_pool (MaxPooling2D)   (None, 14, 14, 512)       0         \n",
            "_________________________________________________________________\n",
            "block5_conv1 (Conv2D)        (None, 14, 14, 512)       2359808   \n",
            "_________________________________________________________________\n",
            "block5_conv2 (Conv2D)        (None, 14, 14, 512)       2359808   \n",
            "_________________________________________________________________\n",
            "block5_conv3 (Conv2D)        (None, 14, 14, 512)       2359808   \n",
            "_________________________________________________________________\n",
            "block5_pool (MaxPooling2D)   (None, 7, 7, 512)         0         \n",
            "=================================================================\n",
            "Total params: 14,714,688\n",
            "Trainable params: 14,714,688\n",
            "Non-trainable params: 0\n",
            "_________________________________________________________________\n"
          ],
          "name": "stdout"
        }
      ]
    },
    {
      "cell_type": "code",
      "metadata": {
        "id": "ZoyTdFob_PsI",
        "colab_type": "code",
        "colab": {}
      },
      "source": [
        "# ランダムにデータを取得する\n",
        "train_choice = np.random.randint(low=0, high=50000, size=10000)\n",
        "test_choice = np.random.randint(low=0, high=10000, size=5000)"
      ],
      "execution_count": 0,
      "outputs": []
    },
    {
      "cell_type": "code",
      "metadata": {
        "id": "lrYbUzsZ_SIi",
        "colab_type": "code",
        "colab": {}
      },
      "source": [
        "# データの準備\n",
        "x_train = train[0][train_choice]\n",
        "x_test = test[0][test_choice]\n",
        "t_train = train[1][train_choice].astype('int32') \n",
        "t_test = test[1][test_choice].astype('int32') "
      ],
      "execution_count": 0,
      "outputs": []
    },
    {
      "cell_type": "code",
      "metadata": {
        "id": "7JIZTpy3_Tpa",
        "colab_type": "code",
        "colab": {}
      },
      "source": [
        "_train, _test = [], []\n",
        "\n",
        "# 画像サイズを 224 × 224 にリサイズしてリストに格納\n",
        "for img in x_train:\n",
        "    _train.append(cv2.resize(src=img, dsize=(224, 224)))\n",
        "for img in x_test:    \n",
        "    _test.append(cv2.resize(src=img, dsize=(224, 224)))"
      ],
      "execution_count": 0,
      "outputs": []
    },
    {
      "cell_type": "code",
      "metadata": {
        "id": "5oGETEym_WSW",
        "colab_type": "code",
        "colab": {}
      },
      "source": [
        "# リストから ndarray に変換し、正規化\n",
        "x_train = np.array(_train, dtype='float32') / 255.0\n",
        "x_test = np.array(_test, dtype='float32') / 255.0"
      ],
      "execution_count": 0,
      "outputs": []
    },
    {
      "cell_type": "code",
      "metadata": {
        "id": "lN99bbnH_X7h",
        "colab_type": "code",
        "outputId": "f1d6286e-0e38-46b2-c7e4-04ff66cf236c",
        "colab": {
          "base_uri": "https://localhost:8080/",
          "height": 35
        }
      },
      "source": [
        "x_train.shape, x_test.shape"
      ],
      "execution_count": 0,
      "outputs": [
        {
          "output_type": "execute_result",
          "data": {
            "text/plain": [
              "((10000, 224, 224, 3), (5000, 224, 224, 3))"
            ]
          },
          "metadata": {
            "tags": []
          },
          "execution_count": 20
        }
      ]
    },
    {
      "cell_type": "code",
      "metadata": {
        "id": "WDDqBzDg_gea",
        "colab_type": "code",
        "colab": {}
      },
      "source": [
        "reset_seed(0)\n",
        "\n",
        "# モデルの定義\n",
        "finetuned_model = models.Sequential([\n",
        "    base_model,\n",
        "    layers.GlobalAveragePooling2D(),\n",
        "    layers.Dense(512, activation='relu'),\n",
        "    layers.Dense(10, activation='softmax')\n",
        "])"
      ],
      "execution_count": 0,
      "outputs": []
    },
    {
      "cell_type": "code",
      "metadata": {
        "id": "PXLP0JA9_jKz",
        "colab_type": "code",
        "colab": {}
      },
      "source": [
        "optimizer = tf.keras.optimizers.SGD(lr=0.01)\n",
        "\n",
        "# モデルのコンパイル\n",
        "finetuned_model.compile(optimizer=optimizer,\n",
        "                        loss='sparse_categorical_crossentropy',\n",
        "                        metrics=['accuracy'])"
      ],
      "execution_count": 0,
      "outputs": []
    },
    {
      "cell_type": "code",
      "metadata": {
        "id": "JSspQqCL_lpl",
        "colab_type": "code",
        "outputId": "6452a8c7-95e5-4c74-b191-c8cae3c85a66",
        "colab": {
          "base_uri": "https://localhost:8080/",
          "height": 301
        }
      },
      "source": [
        "finetuned_model.summary()"
      ],
      "execution_count": 0,
      "outputs": [
        {
          "output_type": "stream",
          "text": [
            "Model: \"sequential_1\"\n",
            "_________________________________________________________________\n",
            "Layer (type)                 Output Shape              Param #   \n",
            "=================================================================\n",
            "vgg16 (Model)                (None, 7, 7, 512)         14714688  \n",
            "_________________________________________________________________\n",
            "global_average_pooling2d (Gl (None, 512)               0         \n",
            "_________________________________________________________________\n",
            "dense_2 (Dense)              (None, 512)               262656    \n",
            "_________________________________________________________________\n",
            "dense_3 (Dense)              (None, 10)                5130      \n",
            "=================================================================\n",
            "Total params: 14,982,474\n",
            "Trainable params: 14,982,474\n",
            "Non-trainable params: 0\n",
            "_________________________________________________________________\n"
          ],
          "name": "stdout"
        }
      ]
    },
    {
      "cell_type": "code",
      "metadata": {
        "id": "YTpqcFt1_nX4",
        "colab_type": "code",
        "outputId": "b9dd8a1d-7b90-4faa-8d40-56f651f0ea84",
        "colab": {
          "base_uri": "https://localhost:8080/",
          "height": 35
        }
      },
      "source": [
        "loss, accuracy = finetuned_model.evaluate(x_test, t_test)"
      ],
      "execution_count": 0,
      "outputs": [
        {
          "output_type": "stream",
          "text": [
            "157/157 [==============================] - 12s 79ms/step - loss: 2.4449 - accuracy: 0.0912\n"
          ],
          "name": "stdout"
        }
      ]
    },
    {
      "cell_type": "code",
      "metadata": {
        "id": "Exkm1006_okm",
        "colab_type": "code",
        "outputId": "ca469159-e5cd-4d2d-8cbd-d75c45af567b",
        "colab": {
          "base_uri": "https://localhost:8080/",
          "height": 35
        }
      },
      "source": [
        "print(f'loss : {loss}, acuracy : {accuracy}')"
      ],
      "execution_count": 0,
      "outputs": [
        {
          "output_type": "stream",
          "text": [
            "loss : 2.444869041442871, acuracy : 0.09120000153779984\n"
          ],
          "name": "stdout"
        }
      ]
    },
    {
      "cell_type": "code",
      "metadata": {
        "id": "ReTpwQME_qRS",
        "colab_type": "code",
        "outputId": "805a20fd-1b29-42ad-e5b5-132e82152bf7",
        "colab": {
          "base_uri": "https://localhost:8080/",
          "height": 392
        }
      },
      "source": [
        "# モデルの学習\n",
        "history = finetuned_model.fit(x_train, t_train, \n",
        "                    epochs=10, \n",
        "                    batch_size=32,\n",
        "                    validation_data=(x_test, t_test))"
      ],
      "execution_count": 0,
      "outputs": [
        {
          "output_type": "stream",
          "text": [
            "Epoch 1/10\n",
            "313/313 [==============================] - 81s 258ms/step - loss: 2.0346 - accuracy: 0.2552 - val_loss: 1.6506 - val_accuracy: 0.3446\n",
            "Epoch 2/10\n",
            "313/313 [==============================] - 80s 255ms/step - loss: 1.3444 - accuracy: 0.5335 - val_loss: 0.9039 - val_accuracy: 0.7116\n",
            "Epoch 3/10\n",
            "313/313 [==============================] - 80s 254ms/step - loss: 0.9592 - accuracy: 0.6722 - val_loss: 0.9368 - val_accuracy: 0.6592\n",
            "Epoch 4/10\n",
            "313/313 [==============================] - 80s 254ms/step - loss: 0.6958 - accuracy: 0.7655 - val_loss: 0.6464 - val_accuracy: 0.7768\n",
            "Epoch 5/10\n",
            "313/313 [==============================] - 80s 255ms/step - loss: 0.5992 - accuracy: 0.8002 - val_loss: 0.9204 - val_accuracy: 0.6890\n",
            "Epoch 6/10\n",
            "313/313 [==============================] - 80s 255ms/step - loss: 0.4338 - accuracy: 0.8510 - val_loss: 0.4350 - val_accuracy: 0.8568\n",
            "Epoch 7/10\n",
            "313/313 [==============================] - 80s 255ms/step - loss: 0.3407 - accuracy: 0.8836 - val_loss: 0.5010 - val_accuracy: 0.8240\n",
            "Epoch 8/10\n",
            "313/313 [==============================] - 80s 255ms/step - loss: 0.2709 - accuracy: 0.9103 - val_loss: 0.7145 - val_accuracy: 0.7688\n",
            "Epoch 9/10\n",
            "313/313 [==============================] - 80s 255ms/step - loss: 0.2525 - accuracy: 0.9184 - val_loss: 0.3672 - val_accuracy: 0.8804\n",
            "Epoch 10/10\n",
            "313/313 [==============================] - 80s 254ms/step - loss: 0.2455 - accuracy: 0.9180 - val_loss: 0.4384 - val_accuracy: 0.8566\n"
          ],
          "name": "stdout"
        }
      ]
    },
    {
      "cell_type": "code",
      "metadata": {
        "id": "3JeqN08v_rkF",
        "colab_type": "code",
        "outputId": "e5baed85-0166-4080-fcc1-dc32bb25e379",
        "colab": {
          "base_uri": "https://localhost:8080/",
          "height": 135
        }
      },
      "source": [
        "results = pd.DataFrame(history.history)\n",
        "results.tail(3)"
      ],
      "execution_count": 0,
      "outputs": [
        {
          "output_type": "execute_result",
          "data": {
            "text/html": [
              "<div>\n",
              "<style scoped>\n",
              "    .dataframe tbody tr th:only-of-type {\n",
              "        vertical-align: middle;\n",
              "    }\n",
              "\n",
              "    .dataframe tbody tr th {\n",
              "        vertical-align: top;\n",
              "    }\n",
              "\n",
              "    .dataframe thead th {\n",
              "        text-align: right;\n",
              "    }\n",
              "</style>\n",
              "<table border=\"1\" class=\"dataframe\">\n",
              "  <thead>\n",
              "    <tr style=\"text-align: right;\">\n",
              "      <th></th>\n",
              "      <th>loss</th>\n",
              "      <th>accuracy</th>\n",
              "      <th>val_loss</th>\n",
              "      <th>val_accuracy</th>\n",
              "    </tr>\n",
              "  </thead>\n",
              "  <tbody>\n",
              "    <tr>\n",
              "      <th>7</th>\n",
              "      <td>0.270941</td>\n",
              "      <td>0.9103</td>\n",
              "      <td>0.714467</td>\n",
              "      <td>0.7688</td>\n",
              "    </tr>\n",
              "    <tr>\n",
              "      <th>8</th>\n",
              "      <td>0.252486</td>\n",
              "      <td>0.9184</td>\n",
              "      <td>0.367201</td>\n",
              "      <td>0.8804</td>\n",
              "    </tr>\n",
              "    <tr>\n",
              "      <th>9</th>\n",
              "      <td>0.245464</td>\n",
              "      <td>0.9180</td>\n",
              "      <td>0.438371</td>\n",
              "      <td>0.8566</td>\n",
              "    </tr>\n",
              "  </tbody>\n",
              "</table>\n",
              "</div>"
            ],
            "text/plain": [
              "       loss  accuracy  val_loss  val_accuracy\n",
              "7  0.270941    0.9103  0.714467        0.7688\n",
              "8  0.252486    0.9184  0.367201        0.8804\n",
              "9  0.245464    0.9180  0.438371        0.8566"
            ]
          },
          "metadata": {
            "tags": []
          },
          "execution_count": 27
        }
      ]
    },
    {
      "cell_type": "code",
      "metadata": {
        "id": "pGDdzwd4_tIo",
        "colab_type": "code",
        "outputId": "c1ce2df2-9122-41a9-e8e2-33931d5c7477",
        "colab": {
          "base_uri": "https://localhost:8080/",
          "height": 295
        }
      },
      "source": [
        "# 損失を可視化\n",
        "results[['loss', 'val_loss']].plot(title='loss')\n",
        "plt.xlabel('epochs');"
      ],
      "execution_count": 0,
      "outputs": [
        {
          "output_type": "display_data",
          "data": {
            "image/png": "[encoded data removed]",
            "text/plain": [
              "<Figure size 432x288 with 1 Axes>"
            ]
          },
          "metadata": {
            "tags": [],
            "needs_background": "light"
          }
        }
      ]
    },
    {
      "cell_type": "code",
      "metadata": {
        "id": "NvMJd1CH_u7T",
        "colab_type": "code",
        "outputId": "a07a4a3c-0607-40d2-ee19-4ba0b0b08f9e",
        "colab": {
          "base_uri": "https://localhost:8080/",
          "height": 295
        }
      },
      "source": [
        "     \n",
        "# 正解率を可視化\n",
        "results[['accuracy', 'val_accuracy']].plot(title='accuracy')\n",
        "plt.xlabel('epochs');"
      ],
      "execution_count": 0,
      "outputs": [
        {
          "output_type": "display_data",
          "data": {
            "image/png": "[encoded data removed]",
            "text/plain": [
              "<Figure size 432x288 with 1 Axes>"
            ]
          },
          "metadata": {
            "tags": [],
            "needs_background": "light"
          }
        }
      ]
    }
  ]
}