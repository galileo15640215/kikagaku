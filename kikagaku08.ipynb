{
  "nbformat": 4,
  "nbformat_minor": 0,
  "metadata": {
    "colab": {
      "name": "kikagaku08.ipynb",
      "provenance": [],
      "authorship_tag": "ABX9TyOiXrXQqZK0SWFicPq7MmSa",
      "include_colab_link": true
    },
    "kernelspec": {
      "name": "python3",
      "display_name": "Python 3"
    },
    "accelerator": "GPU"
  },
  "cells": [
    {
      "cell_type": "markdown",
      "metadata": {
        "id": "view-in-github",
        "colab_type": "text"
      },
      "source": [
        "<a href=\"https://colab.research.google.com/github/galileo15640215/kikagaku/blob/master/kikagaku08.ipynb\" target=\"_parent\"><img src=\"https://colab.research.google.com/assets/colab-badge.svg\" alt=\"Open In Colab\"/></a>"
      ]
    },
    {
      "cell_type": "markdown",
      "metadata": {
        "id": "1u39bkvN4g2J",
        "colab_type": "text"
      },
      "source": [
        "畳み込みニューラルネットワークの実装\n",
        "https://www.kikagaku.ai/tutorial/basic_of_computer_vision/learn/tensorflow_convolution"
      ]
    },
    {
      "cell_type": "code",
      "metadata": {
        "id": "Ubn9_cW44bb-",
        "colab_type": "code",
        "colab": {}
      },
      "source": [
        "import numpy as np\n",
        "import pandas as pd\n",
        "import matplotlib.pyplot as plt\n",
        "\n",
        "import tensorflow as tf"
      ],
      "execution_count": 0,
      "outputs": []
    },
    {
      "cell_type": "code",
      "metadata": {
        "id": "8LxYHPmR4o5v",
        "colab_type": "code",
        "outputId": "2a4e0b1c-579a-4aa8-f661-06ca79f879b8",
        "colab": {
          "base_uri": "https://localhost:8080/",
          "height": 568
        }
      },
      "source": [
        "# GPU が使用可能であることを確認\n",
        "from tensorflow.python.client import device_lib\n",
        "print(device_lib.list_local_devices())"
      ],
      "execution_count": 0,
      "outputs": [
        {
          "output_type": "stream",
          "text": [
            "[name: \"/device:CPU:0\"\n",
            "device_type: \"CPU\"\n",
            "memory_limit: 268435456\n",
            "locality {\n",
            "}\n",
            "incarnation: 2943357389314323303\n",
            ", name: \"/device:XLA_CPU:0\"\n",
            "device_type: \"XLA_CPU\"\n",
            "memory_limit: 17179869184\n",
            "locality {\n",
            "}\n",
            "incarnation: 2044746689322304228\n",
            "physical_device_desc: \"device: XLA_CPU device\"\n",
            ", name: \"/device:XLA_GPU:0\"\n",
            "device_type: \"XLA_GPU\"\n",
            "memory_limit: 17179869184\n",
            "locality {\n",
            "}\n",
            "incarnation: 74362583234732692\n",
            "physical_device_desc: \"device: XLA_GPU device\"\n",
            ", name: \"/device:GPU:0\"\n",
            "device_type: \"GPU\"\n",
            "memory_limit: 14648777152\n",
            "locality {\n",
            "  bus_id: 1\n",
            "  links {\n",
            "  }\n",
            "}\n",
            "incarnation: 7278916988404728480\n",
            "physical_device_desc: \"device: 0, name: Tesla T4, pci bus id: 0000:00:04.0, compute capability: 7.5\"\n",
            "]\n"
          ],
          "name": "stdout"
        }
      ]
    },
    {
      "cell_type": "code",
      "metadata": {
        "id": "jV24DmDb4sIl",
        "colab_type": "code",
        "colab": {}
      },
      "source": [
        "from tensorflow.keras.datasets import mnist"
      ],
      "execution_count": 0,
      "outputs": []
    },
    {
      "cell_type": "code",
      "metadata": {
        "id": "QqV5WMby4tsU",
        "colab_type": "code",
        "outputId": "39a46847-5213-4b1e-bec7-0d3108dee8b7",
        "colab": {
          "base_uri": "https://localhost:8080/",
          "height": 52
        }
      },
      "source": [
        "# データセットの取得\n",
        "train, test = mnist.load_data()"
      ],
      "execution_count": 0,
      "outputs": [
        {
          "output_type": "stream",
          "text": [
            "Downloading data from https://storage.googleapis.com/tensorflow/tf-keras-datasets/mnist.npz\n",
            "11493376/11490434 [==============================] - 0s 0us/step\n"
          ],
          "name": "stdout"
        }
      ]
    },
    {
      "cell_type": "code",
      "metadata": {
        "id": "lz367Tdk4vOo",
        "colab_type": "code",
        "outputId": "36176635-8651-4f2d-8b39-8b756106931e",
        "colab": {
          "base_uri": "https://localhost:8080/",
          "height": 35
        }
      },
      "source": [
        "len(train)"
      ],
      "execution_count": 0,
      "outputs": [
        {
          "output_type": "execute_result",
          "data": {
            "text/plain": [
              "2"
            ]
          },
          "metadata": {
            "tags": []
          },
          "execution_count": 6
        }
      ]
    },
    {
      "cell_type": "code",
      "metadata": {
        "id": "OFL94Ea-4x3r",
        "colab_type": "code",
        "outputId": "3293f410-be48-4017-c36a-ac7d569a5b7c",
        "colab": {
          "base_uri": "https://localhost:8080/",
          "height": 35
        }
      },
      "source": [
        "# 1 つ目の要素の確認\n",
        "type(train[0])"
      ],
      "execution_count": 0,
      "outputs": [
        {
          "output_type": "execute_result",
          "data": {
            "text/plain": [
              "numpy.ndarray"
            ]
          },
          "metadata": {
            "tags": []
          },
          "execution_count": 7
        }
      ]
    },
    {
      "cell_type": "code",
      "metadata": {
        "id": "agneBK5f4zG2",
        "colab_type": "code",
        "outputId": "0ab0719c-fb3a-467a-d1b0-eb2b3f178c61",
        "colab": {
          "base_uri": "https://localhost:8080/",
          "height": 888
        }
      },
      "source": [
        "train[0]"
      ],
      "execution_count": 0,
      "outputs": [
        {
          "output_type": "execute_result",
          "data": {
            "text/plain": [
              "array([[[0, 0, 0, ..., 0, 0, 0],\n",
              "        [0, 0, 0, ..., 0, 0, 0],\n",
              "        [0, 0, 0, ..., 0, 0, 0],\n",
              "        ...,\n",
              "        [0, 0, 0, ..., 0, 0, 0],\n",
              "        [0, 0, 0, ..., 0, 0, 0],\n",
              "        [0, 0, 0, ..., 0, 0, 0]],\n",
              "\n",
              "       [[0, 0, 0, ..., 0, 0, 0],\n",
              "        [0, 0, 0, ..., 0, 0, 0],\n",
              "        [0, 0, 0, ..., 0, 0, 0],\n",
              "        ...,\n",
              "        [0, 0, 0, ..., 0, 0, 0],\n",
              "        [0, 0, 0, ..., 0, 0, 0],\n",
              "        [0, 0, 0, ..., 0, 0, 0]],\n",
              "\n",
              "       [[0, 0, 0, ..., 0, 0, 0],\n",
              "        [0, 0, 0, ..., 0, 0, 0],\n",
              "        [0, 0, 0, ..., 0, 0, 0],\n",
              "        ...,\n",
              "        [0, 0, 0, ..., 0, 0, 0],\n",
              "        [0, 0, 0, ..., 0, 0, 0],\n",
              "        [0, 0, 0, ..., 0, 0, 0]],\n",
              "\n",
              "       ...,\n",
              "\n",
              "       [[0, 0, 0, ..., 0, 0, 0],\n",
              "        [0, 0, 0, ..., 0, 0, 0],\n",
              "        [0, 0, 0, ..., 0, 0, 0],\n",
              "        ...,\n",
              "        [0, 0, 0, ..., 0, 0, 0],\n",
              "        [0, 0, 0, ..., 0, 0, 0],\n",
              "        [0, 0, 0, ..., 0, 0, 0]],\n",
              "\n",
              "       [[0, 0, 0, ..., 0, 0, 0],\n",
              "        [0, 0, 0, ..., 0, 0, 0],\n",
              "        [0, 0, 0, ..., 0, 0, 0],\n",
              "        ...,\n",
              "        [0, 0, 0, ..., 0, 0, 0],\n",
              "        [0, 0, 0, ..., 0, 0, 0],\n",
              "        [0, 0, 0, ..., 0, 0, 0]],\n",
              "\n",
              "       [[0, 0, 0, ..., 0, 0, 0],\n",
              "        [0, 0, 0, ..., 0, 0, 0],\n",
              "        [0, 0, 0, ..., 0, 0, 0],\n",
              "        ...,\n",
              "        [0, 0, 0, ..., 0, 0, 0],\n",
              "        [0, 0, 0, ..., 0, 0, 0],\n",
              "        [0, 0, 0, ..., 0, 0, 0]]], dtype=uint8)"
            ]
          },
          "metadata": {
            "tags": []
          },
          "execution_count": 8
        }
      ]
    },
    {
      "cell_type": "code",
      "metadata": {
        "id": "DrBLqANj41mn",
        "colab_type": "code",
        "outputId": "1e79335a-6ac1-4688-c5ec-7624fb5da543",
        "colab": {
          "base_uri": "https://localhost:8080/",
          "height": 35
        }
      },
      "source": [
        "# 1 目の要素の形を確認\n",
        "train[0].shape"
      ],
      "execution_count": 0,
      "outputs": [
        {
          "output_type": "execute_result",
          "data": {
            "text/plain": [
              "(60000, 28, 28)"
            ]
          },
          "metadata": {
            "tags": []
          },
          "execution_count": 9
        }
      ]
    },
    {
      "cell_type": "code",
      "metadata": {
        "id": "y1M4hssb43rx",
        "colab_type": "code",
        "outputId": "1f990069-8cf0-4133-fc57-7d6514de0d08",
        "colab": {
          "base_uri": "https://localhost:8080/",
          "height": 265
        }
      },
      "source": [
        "img = train[0][0] # 画像データセットの 1 サンプル目を抽出\n",
        "plt.imshow(img, cmap='gray');"
      ],
      "execution_count": 0,
      "outputs": [
        {
          "output_type": "display_data",
          "data": {
            "image/png": "[encoded data removed]",
            "text/plain": [
              "<Figure size 432x288 with 1 Axes>"
            ]
          },
          "metadata": {
            "tags": [],
            "needs_background": "light"
          }
        }
      ]
    },
    {
      "cell_type": "code",
      "metadata": {
        "id": "-qKt5pwv45pl",
        "colab_type": "code",
        "outputId": "69af879a-3230-448e-852f-2988e3ed01f6",
        "colab": {
          "base_uri": "https://localhost:8080/",
          "height": 35
        }
      },
      "source": [
        "# 2 つ目の要素の確認\n",
        "type(train[1])"
      ],
      "execution_count": 0,
      "outputs": [
        {
          "output_type": "execute_result",
          "data": {
            "text/plain": [
              "numpy.ndarray"
            ]
          },
          "metadata": {
            "tags": []
          },
          "execution_count": 11
        }
      ]
    },
    {
      "cell_type": "code",
      "metadata": {
        "id": "2LGiaUaA46mI",
        "colab_type": "code",
        "outputId": "7a4b1cb7-79b2-4302-ed9e-93462d82124c",
        "colab": {
          "base_uri": "https://localhost:8080/",
          "height": 35
        }
      },
      "source": [
        "train[1]"
      ],
      "execution_count": 0,
      "outputs": [
        {
          "output_type": "execute_result",
          "data": {
            "text/plain": [
              "array([5, 0, 4, ..., 5, 6, 8], dtype=uint8)"
            ]
          },
          "metadata": {
            "tags": []
          },
          "execution_count": 12
        }
      ]
    },
    {
      "cell_type": "code",
      "metadata": {
        "id": "11_7EeGn49dA",
        "colab_type": "code",
        "outputId": "a1412757-379d-479a-e224-98e3741feb41",
        "colab": {
          "base_uri": "https://localhost:8080/",
          "height": 35
        }
      },
      "source": [
        "train[1].shape"
      ],
      "execution_count": 0,
      "outputs": [
        {
          "output_type": "execute_result",
          "data": {
            "text/plain": [
              "(60000,)"
            ]
          },
          "metadata": {
            "tags": []
          },
          "execution_count": 13
        }
      ]
    },
    {
      "cell_type": "code",
      "metadata": {
        "id": "cppqRBj15BFG",
        "colab_type": "code",
        "colab": {}
      },
      "source": [
        "x_train = train[0].reshape(60000, 28, 28, 1) / 255\n",
        "x_test = test[0].reshape(10000, 28, 28, 1) / 255"
      ],
      "execution_count": 0,
      "outputs": []
    },
    {
      "cell_type": "code",
      "metadata": {
        "id": "7Nwt9vlD5EG5",
        "colab_type": "code",
        "outputId": "50fb9008-37fe-4de8-d8c0-737954186204",
        "colab": {
          "base_uri": "https://localhost:8080/",
          "height": 35
        }
      },
      "source": [
        "# チャネルが追加されていることを確認\n",
        "x_train[0].shape"
      ],
      "execution_count": 0,
      "outputs": [
        {
          "output_type": "execute_result",
          "data": {
            "text/plain": [
              "(28, 28, 1)"
            ]
          },
          "metadata": {
            "tags": []
          },
          "execution_count": 15
        }
      ]
    },
    {
      "cell_type": "code",
      "metadata": {
        "id": "wjl2ODLm5F0C",
        "colab_type": "code",
        "outputId": "a3c1ecce-7d03-4b2e-a89c-d9afb70872d0",
        "colab": {
          "base_uri": "https://localhost:8080/",
          "height": 35
        }
      },
      "source": [
        "# 正規化されていることを確認\n",
        "x_train[0].min(), x_train[0].max()"
      ],
      "execution_count": 0,
      "outputs": [
        {
          "output_type": "execute_result",
          "data": {
            "text/plain": [
              "(0.0, 1.0)"
            ]
          },
          "metadata": {
            "tags": []
          },
          "execution_count": 16
        }
      ]
    },
    {
      "cell_type": "code",
      "metadata": {
        "id": "hmo9t2f15Huh",
        "colab_type": "code",
        "colab": {}
      },
      "source": [
        "t_train = train[1]\n",
        "t_test = test[1]"
      ],
      "execution_count": 0,
      "outputs": []
    },
    {
      "cell_type": "code",
      "metadata": {
        "id": "wuL30GdM5JSC",
        "colab_type": "code",
        "colab": {}
      },
      "source": [
        "x_train, x_test = x_train.astype('float32'), x_test.astype('float32')\n",
        "t_train, t_test = t_train.astype('int32'), t_test.astype('int32')"
      ],
      "execution_count": 0,
      "outputs": []
    },
    {
      "cell_type": "code",
      "metadata": {
        "id": "RjTUETrl5TR2",
        "colab_type": "code",
        "colab": {}
      },
      "source": [
        "import os, random\n",
        "\n",
        "def reset_seed(seed=0):\n",
        "    os.environ['PYTHONHASHSEED'] = '0'\n",
        "    random.seed(seed)\n",
        "    np.random.seed(seed)\n",
        "    tf.random.set_seed(seed)"
      ],
      "execution_count": 0,
      "outputs": []
    },
    {
      "cell_type": "code",
      "metadata": {
        "id": "ZKijOzUd5U-j",
        "colab_type": "code",
        "colab": {}
      },
      "source": [
        "from tensorflow.keras import models,layers\n",
        "\n",
        "# シードの固定\n",
        "reset_seed(0)\n",
        "\n",
        "# モデルの構築\n",
        "model = models.Sequential([\n",
        "    # 特徴量抽出\n",
        "    layers.Conv2D(filters=3, kernel_size=(3, 3), activation='relu', input_shape=(28, 28, 1)),\n",
        "    layers.MaxPool2D(pool_size=(2, 2)),\n",
        "    # ベクトル化\n",
        "    layers.Flatten(),\n",
        "    # 識別\n",
        "    layers.Dense(100, activation='relu'),\n",
        "    layers.Dense(10, activation='softmax')\n",
        "])"
      ],
      "execution_count": 0,
      "outputs": []
    },
    {
      "cell_type": "code",
      "metadata": {
        "id": "zdeTIw5j5Xax",
        "colab_type": "code",
        "outputId": "ae959ed2-4c6e-4521-d6ba-5135bc225b06",
        "colab": {
          "base_uri": "https://localhost:8080/",
          "height": 337
        }
      },
      "source": [
        "model.summary()"
      ],
      "execution_count": 0,
      "outputs": [
        {
          "output_type": "stream",
          "text": [
            "Model: \"sequential\"\n",
            "_________________________________________________________________\n",
            "Layer (type)                 Output Shape              Param #   \n",
            "=================================================================\n",
            "conv2d (Conv2D)              (None, 26, 26, 3)         30        \n",
            "_________________________________________________________________\n",
            "max_pooling2d (MaxPooling2D) (None, 13, 13, 3)         0         \n",
            "_________________________________________________________________\n",
            "flatten (Flatten)            (None, 507)               0         \n",
            "_________________________________________________________________\n",
            "dense (Dense)                (None, 100)               50800     \n",
            "_________________________________________________________________\n",
            "dense_1 (Dense)              (None, 10)                1010      \n",
            "=================================================================\n",
            "Total params: 51,840\n",
            "Trainable params: 51,840\n",
            "Non-trainable params: 0\n",
            "_________________________________________________________________\n"
          ],
          "name": "stdout"
        }
      ]
    },
    {
      "cell_type": "code",
      "metadata": {
        "id": "VwWv2ihU5eFu",
        "colab_type": "code",
        "outputId": "166843b7-36fc-4151-e8de-9ff11facae4f",
        "colab": {
          "base_uri": "https://localhost:8080/",
          "height": 564
        }
      },
      "source": [
        "from tensorflow.keras.utils import plot_model\n",
        "plot_model(model)"
      ],
      "execution_count": 0,
      "outputs": [
        {
          "output_type": "execute_result",
          "data": {
            "image/png": "[encoded data removed]",
            "text/plain": [
              "<IPython.core.display.Image object>"
            ]
          },
          "metadata": {
            "tags": []
          },
          "execution_count": 22
        }
      ]
    },
    {
      "cell_type": "code",
      "metadata": {
        "id": "EwgWEeLg5gru",
        "colab_type": "code",
        "colab": {}
      },
      "source": [
        "# optimizerの設定\n",
        "optimizer = tf.keras.optimizers.Adam(lr=0.01)\n",
        "\n",
        "# モデルのコンパイル\n",
        "model.compile(optimizer=optimizer, \n",
        "              loss='sparse_categorical_crossentropy', \n",
        "              metrics=['accuracy'])"
      ],
      "execution_count": 0,
      "outputs": []
    },
    {
      "cell_type": "code",
      "metadata": {
        "id": "9S8OJyur5i9F",
        "colab_type": "code",
        "outputId": "1815fcc8-1a36-449e-e7e7-dfb3ab4f2d71",
        "colab": {
          "base_uri": "https://localhost:8080/",
          "height": 1000
        }
      },
      "source": [
        "# モデルの学習\n",
        "batch_size = 4096\n",
        "epochs = 30\n",
        "\n",
        "# 学習の実行\n",
        "history = model.fit(x_train, t_train, \n",
        "                batch_size=batch_size, \n",
        "                epochs=epochs, verbose=1, \n",
        "                validation_data=(x_test, t_test))"
      ],
      "execution_count": 0,
      "outputs": [
        {
          "output_type": "stream",
          "text": [
            "Epoch 1/30\n",
            "15/15 [==============================] - 0s 32ms/step - loss: 0.8988 - accuracy: 0.7390 - val_loss: 0.3954 - val_accuracy: 0.8911\n",
            "Epoch 2/30\n",
            "15/15 [==============================] - 0s 15ms/step - loss: 0.3349 - accuracy: 0.9030 - val_loss: 0.2814 - val_accuracy: 0.9166\n",
            "Epoch 3/30\n",
            "15/15 [==============================] - 0s 15ms/step - loss: 0.2482 - accuracy: 0.9260 - val_loss: 0.2085 - val_accuracy: 0.9362\n",
            "Epoch 4/30\n",
            "15/15 [==============================] - 0s 16ms/step - loss: 0.1983 - accuracy: 0.9413 - val_loss: 0.1793 - val_accuracy: 0.9431\n",
            "Epoch 5/30\n",
            "15/15 [==============================] - 0s 15ms/step - loss: 0.1636 - accuracy: 0.9510 - val_loss: 0.1538 - val_accuracy: 0.9532\n",
            "Epoch 6/30\n",
            "15/15 [==============================] - 0s 15ms/step - loss: 0.1396 - accuracy: 0.9578 - val_loss: 0.1283 - val_accuracy: 0.9610\n",
            "Epoch 7/30\n",
            "15/15 [==============================] - 0s 15ms/step - loss: 0.1211 - accuracy: 0.9635 - val_loss: 0.1179 - val_accuracy: 0.9649\n",
            "Epoch 8/30\n",
            "15/15 [==============================] - 0s 15ms/step - loss: 0.1066 - accuracy: 0.9679 - val_loss: 0.1080 - val_accuracy: 0.9663\n",
            "Epoch 9/30\n",
            "15/15 [==============================] - 0s 15ms/step - loss: 0.0985 - accuracy: 0.9698 - val_loss: 0.1011 - val_accuracy: 0.9695\n",
            "Epoch 10/30\n",
            "15/15 [==============================] - 0s 16ms/step - loss: 0.0863 - accuracy: 0.9736 - val_loss: 0.0995 - val_accuracy: 0.9697\n",
            "Epoch 11/30\n",
            "15/15 [==============================] - 0s 16ms/step - loss: 0.0792 - accuracy: 0.9757 - val_loss: 0.0896 - val_accuracy: 0.9724\n",
            "Epoch 12/30\n",
            "15/15 [==============================] - 0s 16ms/step - loss: 0.0740 - accuracy: 0.9772 - val_loss: 0.0874 - val_accuracy: 0.9724\n",
            "Epoch 13/30\n",
            "15/15 [==============================] - 0s 15ms/step - loss: 0.0670 - accuracy: 0.9798 - val_loss: 0.0839 - val_accuracy: 0.9740\n",
            "Epoch 14/30\n",
            "15/15 [==============================] - 0s 15ms/step - loss: 0.0624 - accuracy: 0.9811 - val_loss: 0.0807 - val_accuracy: 0.9747\n",
            "Epoch 15/30\n",
            "15/15 [==============================] - 0s 15ms/step - loss: 0.0558 - accuracy: 0.9834 - val_loss: 0.0757 - val_accuracy: 0.9770\n",
            "Epoch 16/30\n",
            "15/15 [==============================] - 0s 15ms/step - loss: 0.0520 - accuracy: 0.9841 - val_loss: 0.0782 - val_accuracy: 0.9749\n",
            "Epoch 17/30\n",
            "15/15 [==============================] - 0s 16ms/step - loss: 0.0489 - accuracy: 0.9853 - val_loss: 0.0719 - val_accuracy: 0.9769\n",
            "Epoch 18/30\n",
            "15/15 [==============================] - 0s 16ms/step - loss: 0.0470 - accuracy: 0.9857 - val_loss: 0.0751 - val_accuracy: 0.9763\n",
            "Epoch 19/30\n",
            "15/15 [==============================] - 0s 16ms/step - loss: 0.0480 - accuracy: 0.9848 - val_loss: 0.0791 - val_accuracy: 0.9761\n",
            "Epoch 20/30\n",
            "15/15 [==============================] - 0s 15ms/step - loss: 0.0422 - accuracy: 0.9868 - val_loss: 0.0703 - val_accuracy: 0.9781\n",
            "Epoch 21/30\n",
            "15/15 [==============================] - 0s 16ms/step - loss: 0.0372 - accuracy: 0.9887 - val_loss: 0.0705 - val_accuracy: 0.9777\n",
            "Epoch 22/30\n",
            "15/15 [==============================] - 0s 15ms/step - loss: 0.0355 - accuracy: 0.9894 - val_loss: 0.0687 - val_accuracy: 0.9789\n",
            "Epoch 23/30\n",
            "15/15 [==============================] - 0s 15ms/step - loss: 0.0312 - accuracy: 0.9906 - val_loss: 0.0689 - val_accuracy: 0.9789\n",
            "Epoch 24/30\n",
            "15/15 [==============================] - 0s 17ms/step - loss: 0.0317 - accuracy: 0.9901 - val_loss: 0.0715 - val_accuracy: 0.9787\n",
            "Epoch 25/30\n",
            "15/15 [==============================] - 0s 16ms/step - loss: 0.0274 - accuracy: 0.9918 - val_loss: 0.0669 - val_accuracy: 0.9796\n",
            "Epoch 26/30\n",
            "15/15 [==============================] - 0s 15ms/step - loss: 0.0269 - accuracy: 0.9917 - val_loss: 0.0739 - val_accuracy: 0.9780\n",
            "Epoch 27/30\n",
            "15/15 [==============================] - 0s 15ms/step - loss: 0.0267 - accuracy: 0.9916 - val_loss: 0.0683 - val_accuracy: 0.9819\n",
            "Epoch 28/30\n",
            "15/15 [==============================] - 0s 16ms/step - loss: 0.0229 - accuracy: 0.9930 - val_loss: 0.0693 - val_accuracy: 0.9796\n",
            "Epoch 29/30\n",
            "15/15 [==============================] - 0s 16ms/step - loss: 0.0233 - accuracy: 0.9929 - val_loss: 0.0746 - val_accuracy: 0.9785\n",
            "Epoch 30/30\n",
            "15/15 [==============================] - 0s 15ms/step - loss: 0.0242 - accuracy: 0.9922 - val_loss: 0.0688 - val_accuracy: 0.9805\n"
          ],
          "name": "stdout"
        }
      ]
    },
    {
      "cell_type": "code",
      "metadata": {
        "id": "FtfVPwpk6j6v",
        "colab_type": "code",
        "outputId": "27e6a527-e6c8-4146-c105-075b0dabf4fb",
        "colab": {
          "base_uri": "https://localhost:8080/",
          "height": 301
        }
      },
      "source": [
        "!nvidia-smi"
      ],
      "execution_count": 0,
      "outputs": [
        {
          "output_type": "stream",
          "text": [
            "Fri May  8 10:52:29 2020       \n",
            "+-----------------------------------------------------------------------------+\n",
            "| NVIDIA-SMI 440.82       Driver Version: 418.67       CUDA Version: 10.1     |\n",
            "|-------------------------------+----------------------+----------------------+\n",
            "| GPU  Name        Persistence-M| Bus-Id        Disp.A | Volatile Uncorr. ECC |\n",
            "| Fan  Temp  Perf  Pwr:Usage/Cap|         Memory-Usage | GPU-Util  Compute M. |\n",
            "|===============================+======================+======================|\n",
            "|   0  Tesla T4            Off  | 00000000:00:04.0 Off |                    0 |\n",
            "| N/A   44C    P0    26W /  70W |   1167MiB / 15079MiB |      0%      Default |\n",
            "+-------------------------------+----------------------+----------------------+\n",
            "                                                                               \n",
            "+-----------------------------------------------------------------------------+\n",
            "| Processes:                                                       GPU Memory |\n",
            "|  GPU       PID   Type   Process name                             Usage      |\n",
            "|=============================================================================|\n",
            "+-----------------------------------------------------------------------------+\n"
          ],
          "name": "stdout"
        }
      ]
    },
    {
      "cell_type": "code",
      "metadata": {
        "id": "dIdROx3e6nNG",
        "colab_type": "code",
        "outputId": "7481c76a-b93f-40d7-9935-991377c1aab2",
        "colab": {
          "base_uri": "https://localhost:8080/",
          "height": 135
        }
      },
      "source": [
        "results = pd.DataFrame(history.history)\n",
        "results.tail(3)"
      ],
      "execution_count": 0,
      "outputs": [
        {
          "output_type": "execute_result",
          "data": {
            "text/html": [
              "<div>\n",
              "<style scoped>\n",
              "    .dataframe tbody tr th:only-of-type {\n",
              "        vertical-align: middle;\n",
              "    }\n",
              "\n",
              "    .dataframe tbody tr th {\n",
              "        vertical-align: top;\n",
              "    }\n",
              "\n",
              "    .dataframe thead th {\n",
              "        text-align: right;\n",
              "    }\n",
              "</style>\n",
              "<table border=\"1\" class=\"dataframe\">\n",
              "  <thead>\n",
              "    <tr style=\"text-align: right;\">\n",
              "      <th></th>\n",
              "      <th>loss</th>\n",
              "      <th>accuracy</th>\n",
              "      <th>val_loss</th>\n",
              "      <th>val_accuracy</th>\n",
              "    </tr>\n",
              "  </thead>\n",
              "  <tbody>\n",
              "    <tr>\n",
              "      <th>27</th>\n",
              "      <td>0.022888</td>\n",
              "      <td>0.993017</td>\n",
              "      <td>0.069281</td>\n",
              "      <td>0.9796</td>\n",
              "    </tr>\n",
              "    <tr>\n",
              "      <th>28</th>\n",
              "      <td>0.023287</td>\n",
              "      <td>0.992883</td>\n",
              "      <td>0.074575</td>\n",
              "      <td>0.9785</td>\n",
              "    </tr>\n",
              "    <tr>\n",
              "      <th>29</th>\n",
              "      <td>0.024216</td>\n",
              "      <td>0.992167</td>\n",
              "      <td>0.068822</td>\n",
              "      <td>0.9805</td>\n",
              "    </tr>\n",
              "  </tbody>\n",
              "</table>\n",
              "</div>"
            ],
            "text/plain": [
              "        loss  accuracy  val_loss  val_accuracy\n",
              "27  0.022888  0.993017  0.069281        0.9796\n",
              "28  0.023287  0.992883  0.074575        0.9785\n",
              "29  0.024216  0.992167  0.068822        0.9805"
            ]
          },
          "metadata": {
            "tags": []
          },
          "execution_count": 26
        }
      ]
    },
    {
      "cell_type": "code",
      "metadata": {
        "id": "AB_2cWZu6sdc",
        "colab_type": "code",
        "outputId": "b120fa75-1e00-40bf-b798-ed441c4a033b",
        "colab": {
          "base_uri": "https://localhost:8080/",
          "height": 295
        }
      },
      "source": [
        "# 損失を可視化\n",
        "results[['loss', 'val_loss']].plot(title='loss')\n",
        "plt.xlabel('epochs');"
      ],
      "execution_count": 0,
      "outputs": [
        {
          "output_type": "display_data",
          "data": {
            "image/png": "[encoded data removed]",
            "text/plain": [
              "<Figure size 432x288 with 1 Axes>"
            ]
          },
          "metadata": {
            "tags": [],
            "needs_background": "light"
          }
        }
      ]
    },
    {
      "cell_type": "code",
      "metadata": {
        "id": "tricYDVc6ups",
        "colab_type": "code",
        "outputId": "1426f6b0-db32-4087-d547-d7502f09d07b",
        "colab": {
          "base_uri": "https://localhost:8080/",
          "height": 295
        }
      },
      "source": [
        "# 正解率を可視化\n",
        "results[['accuracy', 'val_accuracy']].plot(title='accuracy')\n",
        "plt.xlabel('epochs');"
      ],
      "execution_count": 0,
      "outputs": [
        {
          "output_type": "display_data",
          "data": {
            "image/png": "[encoded data removed]",
            "text/plain": [
              "<Figure size 432x288 with 1 Axes>"
            ]
          },
          "metadata": {
            "tags": [],
            "needs_background": "light"
          }
        }
      ]
    },
    {
      "cell_type": "code",
      "metadata": {
        "id": "zrPaJCkN6zrn",
        "colab_type": "code",
        "outputId": "6b6128a1-8b11-4c6f-fd58-a9de9d102506",
        "colab": {
          "base_uri": "https://localhost:8080/",
          "height": 35
        }
      },
      "source": [
        "# 推論に使用するデータを切り出し + バッチサイズの追加\n",
        "x_sample = np.array([x_train[0]])\n",
        "x_sample.shape"
      ],
      "execution_count": 0,
      "outputs": [
        {
          "output_type": "execute_result",
          "data": {
            "text/plain": [
              "(1, 28, 28, 1)"
            ]
          },
          "metadata": {
            "tags": []
          },
          "execution_count": 29
        }
      ]
    },
    {
      "cell_type": "code",
      "metadata": {
        "id": "hfgcZFTS61Sj",
        "colab_type": "code",
        "outputId": "b834a8c7-1d47-458e-bf89-779cdd87e44c",
        "colab": {
          "base_uri": "https://localhost:8080/",
          "height": 106
        }
      },
      "source": [
        "model.layers"
      ],
      "execution_count": 0,
      "outputs": [
        {
          "output_type": "execute_result",
          "data": {
            "text/plain": [
              "[<tensorflow.python.keras.layers.convolutional.Conv2D at 0x7f27b003b390>,\n",
              " <tensorflow.python.keras.layers.pooling.MaxPooling2D at 0x7f27be7364e0>,\n",
              " <tensorflow.python.keras.layers.core.Flatten at 0x7f27fd9aa240>,\n",
              " <tensorflow.python.keras.layers.core.Dense at 0x7f27b0023ef0>,\n",
              " <tensorflow.python.keras.layers.core.Dense at 0x7f27b00230b8>]"
            ]
          },
          "metadata": {
            "tags": []
          },
          "execution_count": 30
        }
      ]
    },
    {
      "cell_type": "code",
      "metadata": {
        "id": "5H66K3wa63G2",
        "colab_type": "code",
        "outputId": "91dea93f-3c68-4530-8f62-11ee4a986390",
        "colab": {
          "base_uri": "https://localhost:8080/",
          "height": 372
        }
      },
      "source": [
        "model.layers[0].get_weights()"
      ],
      "execution_count": 0,
      "outputs": [
        {
          "output_type": "execute_result",
          "data": {
            "text/plain": [
              "[array([[[[-0.84488386, -0.78682405,  0.3409722 ]],\n",
              " \n",
              "         [[ 0.31043872, -0.3106095 ,  0.5580692 ]],\n",
              " \n",
              "         [[ 0.5088628 ,  0.5876247 ,  0.25761303]]],\n",
              " \n",
              " \n",
              "        [[[-0.8893243 , -0.3332421 ,  0.36843425]],\n",
              " \n",
              "         [[-0.13764738,  0.08076054,  0.2643006 ]],\n",
              " \n",
              "         [[ 0.6563816 ,  0.6224127 ,  0.29160234]]],\n",
              " \n",
              " \n",
              "        [[[-0.1435655 , -0.25083005, -0.3282569 ]],\n",
              " \n",
              "         [[-0.8276589 ,  0.54285634,  0.29384542]],\n",
              " \n",
              "         [[ 0.3765076 ,  0.07527541,  0.3940035 ]]]], dtype=float32),\n",
              " array([ 0.08624581,  0.00510489, -0.01487345], dtype=float32)]"
            ]
          },
          "metadata": {
            "tags": []
          },
          "execution_count": 31
        }
      ]
    },
    {
      "cell_type": "code",
      "metadata": {
        "id": "Ovu4JT_763Ec",
        "colab_type": "code",
        "colab": {}
      },
      "source": [
        "output = model.layers[0](x_sample) # convolution 層の計算\n",
        "output = output[0].numpy() # NumPy の ndarray オブジェクトに変換"
      ],
      "execution_count": 0,
      "outputs": []
    },
    {
      "cell_type": "code",
      "metadata": {
        "id": "CPwfTDM366Im",
        "colab_type": "code",
        "outputId": "55bb8205-2426-49c0-94d5-04c7cee88612",
        "colab": {
          "base_uri": "https://localhost:8080/",
          "height": 35
        }
      },
      "source": [
        "output.shape"
      ],
      "execution_count": 0,
      "outputs": [
        {
          "output_type": "execute_result",
          "data": {
            "text/plain": [
              "(26, 26, 3)"
            ]
          },
          "metadata": {
            "tags": []
          },
          "execution_count": 33
        }
      ]
    },
    {
      "cell_type": "code",
      "metadata": {
        "id": "_jnoGxcR67TA",
        "colab_type": "code",
        "outputId": "d1b65436-b574-473a-ff36-f579f598658f",
        "colab": {
          "base_uri": "https://localhost:8080/",
          "height": 265
        }
      },
      "source": [
        "# 1 つ目の出力\n",
        "plt.imshow(output[:, :, 0], cmap='gray');"
      ],
      "execution_count": 0,
      "outputs": [
        {
          "output_type": "display_data",
          "data": {
            "image/png": "[encoded data removed]",
            "text/plain": [
              "<Figure size 432x288 with 1 Axes>"
            ]
          },
          "metadata": {
            "tags": [],
            "needs_background": "light"
          }
        }
      ]
    },
    {
      "cell_type": "code",
      "metadata": {
        "id": "GfLkATWs69sD",
        "colab_type": "code",
        "outputId": "6bf675b0-2c4d-4519-959b-e08bf5fac523",
        "colab": {
          "base_uri": "https://localhost:8080/",
          "height": 265
        }
      },
      "source": [
        "# 2 つ目の出力\n",
        "plt.imshow(output[:, :, 1], cmap='gray');"
      ],
      "execution_count": 0,
      "outputs": [
        {
          "output_type": "display_data",
          "data": {
            "image/png": "[encoded data removed]",
            "text/plain": [
              "<Figure size 432x288 with 1 Axes>"
            ]
          },
          "metadata": {
            "tags": [],
            "needs_background": "light"
          }
        }
      ]
    },
    {
      "cell_type": "code",
      "metadata": {
        "id": "LcLRKswE6_BR",
        "colab_type": "code",
        "outputId": "844a668f-ffd5-426d-add1-b532e24d8e30",
        "colab": {
          "base_uri": "https://localhost:8080/",
          "height": 265
        }
      },
      "source": [
        "# 3 つ目の出力\n",
        "plt.imshow(output[:, :, 2], cmap='gray');"
      ],
      "execution_count": 0,
      "outputs": [
        {
          "output_type": "display_data",
          "data": {
            "image/png": "[encoded data removed]",
            "text/plain": [
              "<Figure size 432x288 with 1 Axes>"
            ]
          },
          "metadata": {
            "tags": [],
            "needs_background": "light"
          }
        }
      ]
    },
    {
      "cell_type": "code",
      "metadata": {
        "id": "jjadIhUL7BXL",
        "colab_type": "code",
        "colab": {}
      },
      "source": [
        "output = model.layers[0](x_sample) # convolution 層の計算\n",
        "output = model.layers[1](output) # pooling 層の計算（サイズを 1/2 に変換）\n",
        "output = output[0].numpy()"
      ],
      "execution_count": 0,
      "outputs": []
    },
    {
      "cell_type": "code",
      "metadata": {
        "id": "d0tKRDPh7DW4",
        "colab_type": "code",
        "outputId": "33513bb9-ac3e-4044-9336-810c259fc529",
        "colab": {
          "base_uri": "https://localhost:8080/",
          "height": 35
        }
      },
      "source": [
        "output.shape"
      ],
      "execution_count": 0,
      "outputs": [
        {
          "output_type": "execute_result",
          "data": {
            "text/plain": [
              "(13, 13, 3)"
            ]
          },
          "metadata": {
            "tags": []
          },
          "execution_count": 38
        }
      ]
    },
    {
      "cell_type": "code",
      "metadata": {
        "id": "hORmzEQ57GbL",
        "colab_type": "code",
        "outputId": "c4c727ea-0f2c-4504-f21f-d3b824fdf611",
        "colab": {
          "base_uri": "https://localhost:8080/",
          "height": 265
        }
      },
      "source": [
        "# 1 つ目の出力\n",
        "plt.imshow(output[:, :, 0], cmap='gray');"
      ],
      "execution_count": 0,
      "outputs": [
        {
          "output_type": "display_data",
          "data": {
            "image/png": "[encoded data removed]",
            "text/plain": [
              "<Figure size 432x288 with 1 Axes>"
            ]
          },
          "metadata": {
            "tags": [],
            "needs_background": "light"
          }
        }
      ]
    },
    {
      "cell_type": "code",
      "metadata": {
        "id": "LvzV5bSY7H3h",
        "colab_type": "code",
        "outputId": "c7b67af9-0ced-4091-be2e-1a8f2db262af",
        "colab": {
          "base_uri": "https://localhost:8080/",
          "height": 265
        }
      },
      "source": [
        "# 2 つ目の出力\n",
        "plt.imshow(output[:, :, 1], cmap='gray');"
      ],
      "execution_count": 0,
      "outputs": [
        {
          "output_type": "display_data",
          "data": {
            "image/png": "[encoded data removed]",
            "text/plain": [
              "<Figure size 432x288 with 1 Axes>"
            ]
          },
          "metadata": {
            "tags": [],
            "needs_background": "light"
          }
        }
      ]
    },
    {
      "cell_type": "code",
      "metadata": {
        "id": "wxmx_SVH7J7x",
        "colab_type": "code",
        "outputId": "c2c35442-314c-4a43-b48f-a52f5f361c03",
        "colab": {
          "base_uri": "https://localhost:8080/",
          "height": 265
        }
      },
      "source": [
        "# 3 つ目の出力\n",
        "plt.imshow(output[:, :, 2], cmap='gray');"
      ],
      "execution_count": 0,
      "outputs": [
        {
          "output_type": "display_data",
          "data": {
            "image/png": "[encoded data removed]",
            "text/plain": [
              "<Figure size 432x288 with 1 Axes>"
            ]
          },
          "metadata": {
            "tags": [],
            "needs_background": "light"
          }
        }
      ]
    },
    {
      "cell_type": "code",
      "metadata": {
        "id": "rlngSORt7LkY",
        "colab_type": "code",
        "colab": {}
      },
      "source": [
        "output = model.layers[0](x_sample) # convolution 層の計算\n",
        "output = model.layers[1](output) # pooling 層の計算（サイズを 1/2 に変換）\n",
        "output = model.layers[2](output) # ベクトル化\n",
        "output = output[0].numpy()"
      ],
      "execution_count": 0,
      "outputs": []
    },
    {
      "cell_type": "code",
      "metadata": {
        "id": "IC1FoWio7Nam",
        "colab_type": "code",
        "outputId": "d3711e96-94f3-4353-9189-d2c2caf8d658",
        "colab": {
          "base_uri": "https://localhost:8080/",
          "height": 35
        }
      },
      "source": [
        "output.shape"
      ],
      "execution_count": 0,
      "outputs": [
        {
          "output_type": "execute_result",
          "data": {
            "text/plain": [
              "(507,)"
            ]
          },
          "metadata": {
            "tags": []
          },
          "execution_count": 43
        }
      ]
    }
  ]
}