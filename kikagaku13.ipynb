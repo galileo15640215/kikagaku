{
  "nbformat": 4,
  "nbformat_minor": 0,
  "metadata": {
    "colab": {
      "name": "kikagaku13.ipynb",
      "provenance": [],
      "authorship_tag": "ABX9TyM/zkX1ieJ6LF5vJSdu+TQH",
      "include_colab_link": true
    },
    "kernelspec": {
      "name": "python3",
      "display_name": "Python 3"
    }
  },
  "cells": [
    {
      "cell_type": "markdown",
      "metadata": {
        "id": "view-in-github",
        "colab_type": "text"
      },
      "source": [
        "<a href=\"https://colab.research.google.com/github/galileo15640215/kikagaku/blob/master/kikagaku13.ipynb\" target=\"_parent\"><img src=\"https://colab.research.google.com/assets/colab-badge.svg\" alt=\"Open In Colab\"/></a>"
      ]
    },
    {
      "cell_type": "markdown",
      "metadata": {
        "id": "zSQgEA82sQXx",
        "colab_type": "text"
      },
      "source": [
        "機械学習による自然言語処理\n",
        "https://www.kikagaku.ai/tutorial/basic_of_nlp/learn/tensorflow_ml_nlp"
      ]
    },
    {
      "cell_type": "code",
      "metadata": {
        "id": "z_9eR2rnsLru",
        "colab_type": "code",
        "colab": {}
      },
      "source": [
        "text = '<html>Deep Learningにはマシンリソースが必要です。</html>'"
      ],
      "execution_count": 0,
      "outputs": []
    },
    {
      "cell_type": "code",
      "metadata": {
        "id": "B-VyUuCFtA9R",
        "colab_type": "code",
        "colab": {}
      },
      "source": [
        "from bs4 import BeautifulSoup\n",
        "soup = BeautifulSoup(text, 'html.parser')\n",
        "text = soup.get_text()"
      ],
      "execution_count": 0,
      "outputs": []
    },
    {
      "cell_type": "code",
      "metadata": {
        "id": "CZDp8hvAtCck",
        "colab_type": "code",
        "colab": {
          "base_uri": "https://localhost:8080/",
          "height": 35
        },
        "outputId": "ea86a84b-f35d-4466-9a69-3fc23f011482"
      },
      "source": [
        "text"
      ],
      "execution_count": 3,
      "outputs": [
        {
          "output_type": "execute_result",
          "data": {
            "text/plain": [
              "'Deep Learningにはマシンリソースが必要です。'"
            ]
          },
          "metadata": {
            "tags": []
          },
          "execution_count": 3
        }
      ]
    },
    {
      "cell_type": "code",
      "metadata": {
        "id": "ziuzL7XutGak",
        "colab_type": "code",
        "colab": {
          "base_uri": "https://localhost:8080/",
          "height": 35
        },
        "outputId": "07ecd90f-f71d-4935-be54-9b4fd582adc7"
      },
      "source": [
        "text = text.lower()\n",
        "text"
      ],
      "execution_count": 4,
      "outputs": [
        {
          "output_type": "execute_result",
          "data": {
            "text/plain": [
              "'deep learningにはマシンリソースが必要です。'"
            ]
          },
          "metadata": {
            "tags": []
          },
          "execution_count": 4
        }
      ]
    },
    {
      "cell_type": "code",
      "metadata": {
        "id": "3lKl5a3otNnI",
        "colab_type": "code",
        "colab": {
          "base_uri": "https://localhost:8080/",
          "height": 35
        },
        "outputId": "8b28ed6d-cf46-4f16-a165-a1bd0383486b"
      },
      "source": [
        "!pip install mecab-python3"
      ],
      "execution_count": 14,
      "outputs": [
        {
          "output_type": "stream",
          "text": [
            "Requirement already satisfied: mecab-python3 in /usr/local/lib/python3.6/dist-packages (0.996.5)\n"
          ],
          "name": "stdout"
        }
      ]
    },
    {
      "cell_type": "code",
      "metadata": {
        "id": "9fT1I060tL59",
        "colab_type": "code",
        "colab": {
          "base_uri": "https://localhost:8080/",
          "height": 35
        },
        "outputId": "beca9d72-e92d-4f28-f6c5-dc903d0cadbb"
      },
      "source": [
        "import MeCab\n",
        "mecab = MeCab.Tagger('-Owakati')\n",
        "text = mecab.parse(text)\n",
        "ret = text.strip().split()\n",
        "ret"
      ],
      "execution_count": 15,
      "outputs": [
        {
          "output_type": "execute_result",
          "data": {
            "text/plain": [
              "['deep', 'learning', 'に', 'は', 'マシン', 'リソース', 'が', '必要', 'です', '。']"
            ]
          },
          "metadata": {
            "tags": []
          },
          "execution_count": 15
        }
      ]
    },
    {
      "cell_type": "code",
      "metadata": {
        "id": "ZuNp3VLbtSWf",
        "colab_type": "code",
        "colab": {}
      },
      "source": [
        "# 空のリストを用意\n",
        "word_list = []\n",
        "\n",
        "# 辞書の用意\n",
        "stopword = ['に', 'は', 'が', 'です', '。']\n",
        "\n",
        "#　辞書に無いものをリストに追加\n",
        "for word in ret :\n",
        "    if word not in stopword:\n",
        "        word_list.append(word)"
      ],
      "execution_count": 0,
      "outputs": []
    },
    {
      "cell_type": "code",
      "metadata": {
        "id": "o2PfwRWFussx",
        "colab_type": "code",
        "colab": {
          "base_uri": "https://localhost:8080/",
          "height": 35
        },
        "outputId": "ff6925f0-0267-454f-9423-934e3ea0144d"
      },
      "source": [
        "word_list"
      ],
      "execution_count": 17,
      "outputs": [
        {
          "output_type": "execute_result",
          "data": {
            "text/plain": [
              "['deep', 'learning', 'マシン', 'リソース', '必要']"
            ]
          },
          "metadata": {
            "tags": []
          },
          "execution_count": 17
        }
      ]
    }
  ]
}